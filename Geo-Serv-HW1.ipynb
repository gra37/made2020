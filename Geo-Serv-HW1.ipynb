{
  "nbformat": 4,
  "nbformat_minor": 0,
  "metadata": {
    "kernelspec": {
      "display_name": "Python 3",
      "language": "python",
      "name": "python3"
    },
    "language_info": {
      "codemirror_mode": {
        "name": "ipython",
        "version": 3
      },
      "file_extension": ".py",
      "mimetype": "text/x-python",
      "name": "python",
      "nbconvert_exporter": "python",
      "pygments_lexer": "ipython3",
      "version": "3.8.3"
    },
    "colab": {
      "name": "HW1.ipynb",
      "provenance": [],
      "include_colab_link": true
    }
  },
  "cells": [
    {
      "cell_type": "markdown",
      "metadata": {
        "id": "view-in-github",
        "colab_type": "text"
      },
      "source": [
        "<a href=\"https://colab.research.google.com/github/gra37/made2020/blob/master/Geo-Serv-HW1.ipynb\" target=\"_parent\"><img src=\"https://colab.research.google.com/assets/colab-badge.svg\" alt=\"Open In Colab\"/></a>"
      ]
    },
    {
      "cell_type": "markdown",
      "metadata": {
        "id": "qOl4cjyU5P3_"
      },
      "source": [
        "# Анализ пространственных данных. Домашнее задание №1"
      ]
    },
    {
      "cell_type": "markdown",
      "metadata": {
        "id": "4ScH8diP5P4G"
      },
      "source": [
        "Данные для выполнения заданий можно найти [здесь](https://yadi.sk/d/xBemeb0ODlhCAQ?w=1)\n",
        "\n",
        "Дедлайн: __20 октября 2020 г. 09:00__"
      ]
    },
    {
      "cell_type": "markdown",
      "metadata": {
        "id": "CesTGGFp5P4R"
      },
      "source": [
        "ФИО: `Гайн Роман Андреевич`"
      ]
    },
    {
      "cell_type": "markdown",
      "metadata": {
        "id": "2Bsz1La-5P4U"
      },
      "source": [
        "Группа: `MADE-DS-11`"
      ]
    },
    {
      "cell_type": "markdown",
      "metadata": {
        "id": "6Oj_ndKI5P4c"
      },
      "source": [
        "## Задание №1. Reading coordinates from a file and creating a geometries. 4 балла."
      ]
    },
    {
      "cell_type": "markdown",
      "metadata": {
        "id": "Cooz9aXE5P4e"
      },
      "source": [
        "One of the \"classical\" problems in GIS is the situation where you have a set of coordinates in a file and you need to get them into a map (or into a GIS-software). Dataset `travelTimes_2015_Helsinki.txt` consist of travel times between specific locations in Helsinki Region."
      ]
    },
    {
      "cell_type": "markdown",
      "metadata": {
        "id": "Tzw5_3eG5P4h"
      },
      "source": [
        "1. Read the data into memory.\n",
        "2. Read 4 columns `from_x`, `from_y`, `to_x`, `to_y` from the data.\n",
        "3. Create two lists called __orig_points__ and __dest_points__\n",
        "4. Iterate over the rows of your numpy array and add Shapely Point -objects into the __orig_points__ -list and __dest_point__ -list representing the origin locations and destination locations accordingly."
      ]
    },
    {
      "cell_type": "markdown",
      "metadata": {
        "id": "bFQR-2Vh5P4m"
      },
      "source": [
        "`from_x`: x-coordinate of the __origin__ location (longitude)\n",
        "\n",
        "`from_y`: y-coordinate of the __origin__ location (latitude)\n",
        "\n",
        "`to_x`: x-coordinate of the __destination__ location (longitude)\n",
        "\n",
        "`to_y`: y-coordinate of the __destination__ location (latitude)"
      ]
    },
    {
      "cell_type": "code",
      "metadata": {
        "id": "MEf_YALO4an8"
      },
      "source": [
        "!pip install geopandas\n",
        "!pip install earthpy\n",
        "!pip install descartes\n",
        "!pip install mapclassify"
      ],
      "execution_count": null,
      "outputs": []
    },
    {
      "cell_type": "code",
      "metadata": {
        "id": "DR-XHNCpbQZB"
      },
      "source": [
        "import os\n",
        "import numpy as np\n",
        "import matplotlib.pyplot as plt\n",
        "import pandas as pd\n",
        "from scipy.spatial import distance\n",
        "import shapely\n",
        "\n",
        "import geopandas as gpd\n",
        "import earthpy as et\n",
        "from shapely.geometry import Point, LineString"
      ],
      "execution_count": 57,
      "outputs": []
    },
    {
      "cell_type": "code",
      "metadata": {
        "id": "KAVFGO_f5P4p",
        "outputId": "19b3104d-ba75-4c6b-a3cb-33b958e5c3b3",
        "colab": {
          "base_uri": "https://localhost:8080/",
          "height": 34
        }
      },
      "source": [
        "#вызываем команду для доступа к Google Drive\n",
        "\n",
        "from google.colab import drive\n",
        "drive.mount('/content/drive')"
      ],
      "execution_count": 3,
      "outputs": [
        {
          "output_type": "stream",
          "text": [
            "Mounted at /content/drive\n"
          ],
          "name": "stdout"
        }
      ]
    },
    {
      "cell_type": "code",
      "metadata": {
        "id": "0Ijb4DxPcVlS"
      },
      "source": [
        "#Загрузка датасета с расширением \"txt\"\n",
        "data = pd.read_csv(\"drive/My Drive/MADE/Geo-data/HW01/travelTimes_2015_Helsinki.txt\", sep=\";\", usecols = [\"from_x\", \"from_y\", \"to_x\", \"to_y\"])\n",
        "#data.columns.tolist()"
      ],
      "execution_count": 126,
      "outputs": []
    },
    {
      "cell_type": "code",
      "metadata": {
        "id": "1Ag6OgFwdxEU",
        "outputId": "7d7bcce5-d356-4297-9b11-5356ebb69648",
        "colab": {
          "base_uri": "https://localhost:8080/",
          "height": 419
        }
      },
      "source": [
        "data"
      ],
      "execution_count": 19,
      "outputs": [
        {
          "output_type": "execute_result",
          "data": {
            "text/html": [
              "<div>\n",
              "<style scoped>\n",
              "    .dataframe tbody tr th:only-of-type {\n",
              "        vertical-align: middle;\n",
              "    }\n",
              "\n",
              "    .dataframe tbody tr th {\n",
              "        vertical-align: top;\n",
              "    }\n",
              "\n",
              "    .dataframe thead th {\n",
              "        text-align: right;\n",
              "    }\n",
              "</style>\n",
              "<table border=\"1\" class=\"dataframe\">\n",
              "  <thead>\n",
              "    <tr style=\"text-align: right;\">\n",
              "      <th></th>\n",
              "      <th>from_x</th>\n",
              "      <th>from_y</th>\n",
              "      <th>to_x</th>\n",
              "      <th>to_y</th>\n",
              "    </tr>\n",
              "  </thead>\n",
              "  <tbody>\n",
              "    <tr>\n",
              "      <th>0</th>\n",
              "      <td>24.970438</td>\n",
              "      <td>60.311917</td>\n",
              "      <td>24.856034</td>\n",
              "      <td>60.399941</td>\n",
              "    </tr>\n",
              "    <tr>\n",
              "      <th>1</th>\n",
              "      <td>24.970438</td>\n",
              "      <td>60.311917</td>\n",
              "      <td>24.860568</td>\n",
              "      <td>60.400014</td>\n",
              "    </tr>\n",
              "    <tr>\n",
              "      <th>2</th>\n",
              "      <td>24.970438</td>\n",
              "      <td>60.311917</td>\n",
              "      <td>24.865102</td>\n",
              "      <td>60.400086</td>\n",
              "    </tr>\n",
              "    <tr>\n",
              "      <th>3</th>\n",
              "      <td>24.970438</td>\n",
              "      <td>60.311917</td>\n",
              "      <td>24.869636</td>\n",
              "      <td>60.400159</td>\n",
              "    </tr>\n",
              "    <tr>\n",
              "      <th>4</th>\n",
              "      <td>24.970438</td>\n",
              "      <td>60.311917</td>\n",
              "      <td>24.842582</td>\n",
              "      <td>60.397478</td>\n",
              "    </tr>\n",
              "    <tr>\n",
              "      <th>...</th>\n",
              "      <td>...</td>\n",
              "      <td>...</td>\n",
              "      <td>...</td>\n",
              "      <td>...</td>\n",
              "    </tr>\n",
              "    <tr>\n",
              "      <th>14638</th>\n",
              "      <td>24.970438</td>\n",
              "      <td>60.311917</td>\n",
              "      <td>24.559702</td>\n",
              "      <td>60.174754</td>\n",
              "    </tr>\n",
              "    <tr>\n",
              "      <th>14639</th>\n",
              "      <td>24.970438</td>\n",
              "      <td>60.311917</td>\n",
              "      <td>24.564204</td>\n",
              "      <td>60.174837</td>\n",
              "    </tr>\n",
              "    <tr>\n",
              "      <th>14640</th>\n",
              "      <td>24.970438</td>\n",
              "      <td>60.311917</td>\n",
              "      <td>24.555367</td>\n",
              "      <td>60.172428</td>\n",
              "    </tr>\n",
              "    <tr>\n",
              "      <th>14641</th>\n",
              "      <td>24.970438</td>\n",
              "      <td>60.311917</td>\n",
              "      <td>24.559868</td>\n",
              "      <td>60.172511</td>\n",
              "    </tr>\n",
              "    <tr>\n",
              "      <th>14642</th>\n",
              "      <td>24.970438</td>\n",
              "      <td>60.311917</td>\n",
              "      <td>24.555534</td>\n",
              "      <td>60.170185</td>\n",
              "    </tr>\n",
              "  </tbody>\n",
              "</table>\n",
              "<p>14643 rows × 4 columns</p>\n",
              "</div>"
            ],
            "text/plain": [
              "          from_x     from_y       to_x       to_y\n",
              "0      24.970438  60.311917  24.856034  60.399941\n",
              "1      24.970438  60.311917  24.860568  60.400014\n",
              "2      24.970438  60.311917  24.865102  60.400086\n",
              "3      24.970438  60.311917  24.869636  60.400159\n",
              "4      24.970438  60.311917  24.842582  60.397478\n",
              "...          ...        ...        ...        ...\n",
              "14638  24.970438  60.311917  24.559702  60.174754\n",
              "14639  24.970438  60.311917  24.564204  60.174837\n",
              "14640  24.970438  60.311917  24.555367  60.172428\n",
              "14641  24.970438  60.311917  24.559868  60.172511\n",
              "14642  24.970438  60.311917  24.555534  60.170185\n",
              "\n",
              "[14643 rows x 4 columns]"
            ]
          },
          "metadata": {
            "tags": []
          },
          "execution_count": 19
        }
      ]
    },
    {
      "cell_type": "code",
      "metadata": {
        "id": "eeg4M5WH3zIV"
      },
      "source": [
        "#orig_points = gpd.GeoDataFrame(geometry=[shapely.geometry.Point(xy) for xy in zip(data.from_x, data.from_y)])\n",
        "#dest_points = gpd.GeoDataFrame(geometry=[shapely.geometry.Point(xy) for xy in zip(data.to_x, data.to_y)])\n",
        "#добавить параметр \"data.drop(['from_x', 'from_y'], axis=1), crs={'init': 'epsg:4326'},...\", если нужно сохранить geometry в исходный файл\n",
        "\n",
        "#создадим только список\n",
        "orig_points = [xy for xy in zip(data.from_x, data.from_y)]\n",
        "dest_points = [xy for xy in zip(data.to_x, data.to_y)]"
      ],
      "execution_count": 139,
      "outputs": []
    },
    {
      "cell_type": "code",
      "metadata": {
        "id": "xXxJPwjZp3e8",
        "outputId": "996d9b65-0d37-4df8-82fd-cb26997b8105",
        "colab": {
          "base_uri": "https://localhost:8080/",
          "height": 102
        }
      },
      "source": [
        "orig_points[0:5]"
      ],
      "execution_count": 162,
      "outputs": [
        {
          "output_type": "execute_result",
          "data": {
            "text/plain": [
              "[(24.9704379, 60.3119173),\n",
              " (24.9704379, 60.3119173),\n",
              " (24.9704379, 60.3119173),\n",
              " (24.9704379, 60.3119173),\n",
              " (24.9704379, 60.3119173)]"
            ]
          },
          "metadata": {
            "tags": []
          },
          "execution_count": 162
        }
      ]
    },
    {
      "cell_type": "code",
      "metadata": {
        "id": "ZRj3gnWJ5YJ6",
        "outputId": "7739af60-08f6-40a2-e9ba-9badd14b6e1e",
        "colab": {
          "base_uri": "https://localhost:8080/",
          "height": 102
        }
      },
      "source": [
        "dest_points[0:5]"
      ],
      "execution_count": 48,
      "outputs": [
        {
          "output_type": "execute_result",
          "data": {
            "text/plain": [
              "[(24.8560344, 60.3999406),\n",
              " (24.8605682, 60.4000135),\n",
              " (24.865102, 60.4000863),\n",
              " (24.8696358, 60.4001589),\n",
              " (24.8425817, 60.39747779999999)]"
            ]
          },
          "metadata": {
            "tags": []
          },
          "execution_count": 48
        }
      ]
    },
    {
      "cell_type": "markdown",
      "metadata": {
        "id": "xx4q1MWz5P5A"
      },
      "source": [
        "## Задание №2. Creating LineStrings that represent the movements. 6 баллов."
      ]
    },
    {
      "cell_type": "markdown",
      "metadata": {
        "id": "R2sdUGX65P5D"
      },
      "source": [
        "Please use data from previous task:"
      ]
    },
    {
      "cell_type": "markdown",
      "metadata": {
        "id": "w3FtEfVO5P5F"
      },
      "source": [
        "1. Create a list called `lines`\n",
        "2. Iterate over the __orig_points__ and __dest_points__ lists and create a Shapely _LineString_ -object between the origin and destination point\n",
        "3. Add that line into the `lines` -list.\n",
        "4. Find out what is the average (Euclidian) distance of all the origin-destination _LineStrings_ that we just created, and print it out."
      ]
    },
    {
      "cell_type": "code",
      "metadata": {
        "id": "3amo7abh5P5P",
        "outputId": "7870751d-0771-4d40-9113-67b5b5cce354",
        "colab": {
          "base_uri": "https://localhost:8080/",
          "height": 34
        }
      },
      "source": [
        "#lines = LineString([orig_points, dest_points])\n",
        "#lines = LineString([orig_points[0], dest_points[0]])\n",
        "#lines = LineString(map(orig_points, dest_points))\n",
        "#lines = LineString(x, y for x, y in map([orig_points[x], dest_points[y]]))\n",
        "#xy for xy in zip(data.from_x, data.from_y)\n",
        "\n",
        "# никак не смог подобрать генератор списка, чтобы создать LineString!! - с удовольствием посмотрю, как это сделать\n",
        "# сделал через обычный цикл\n",
        "\n",
        "lines = []\n",
        "for i in range(len(orig_points)):\n",
        "  lines.append(LineString([orig_points[i], dest_points[i]]))\n",
        "\n",
        "\n",
        "print(lines[2])"
      ],
      "execution_count": 119,
      "outputs": [
        {
          "output_type": "stream",
          "text": [
            "LINESTRING (24.9704379 60.3119173, 24.865102 60.4000863)\n"
          ],
          "name": "stdout"
        }
      ]
    },
    {
      "cell_type": "code",
      "metadata": {
        "id": "l3cMy5zKLcvO",
        "outputId": "a1588fbe-80b1-4c81-a213-c6584b0706a6",
        "colab": {
          "base_uri": "https://localhost:8080/",
          "height": 34
        }
      },
      "source": [
        "# не смог найти, как вычислить расстояние, используя непосредственно LINESTRING, проссумировать и вывести одним числом.\n",
        "# поэтому использую ранее вычисленные списки\n",
        "\n",
        "a = list(map(distance.euclidean, orig_points, dest_points))\n",
        "print(sum(a))"
      ],
      "execution_count": 123,
      "outputs": [
        {
          "output_type": "stream",
          "text": [
            "3148.5707808651528\n"
          ],
          "name": "stdout"
        }
      ]
    },
    {
      "cell_type": "markdown",
      "metadata": {
        "id": "J_qqCpzG5P5g"
      },
      "source": [
        "## Задание №3. Points to map. 4 балла."
      ]
    },
    {
      "cell_type": "markdown",
      "metadata": {
        "id": "qGOONqVF5P5z"
      },
      "source": [
        "Aim is to plot a set of x and y coordinates that we should read from a `some_posts.csv`. The data has 81379 rows and consists of locations and times of social media posts inside Kruger national park in South Africa."
      ]
    },
    {
      "cell_type": "markdown",
      "metadata": {
        "id": "vb99POi75P51"
      },
      "source": [
        "1. Read the data into memory.\n",
        "2. Create an empty column called `geometry` where you will store shapely _Point_ objects\n",
        "3. Iterate over the rows of the DataFrame (__x__ and __y__ -coordinates) and insert _Point_ objects into column `geometry`\n",
        "4. Convert that DataFrame into a GeoDataFrame\n",
        "5. Update the CRS for coordinate system as WGS84 (i.e. epsg code: 4326)\n",
        "6. Save the data into a Shapefile called `Kruger_posts.shp`\n",
        "7. Create a simple map of those points using .plot() -funtion"
      ]
    },
    {
      "cell_type": "markdown",
      "metadata": {
        "id": "gZ8gpTRL5P53"
      },
      "source": [
        "`lat`: y-coordinate of the post\n",
        "\n",
        "`lon`: x-coordinate of the post\n",
        "\n",
        "`timestamp`: Time when the post was uploaded\n",
        "\n",
        "`userid`: userid"
      ]
    },
    {
      "cell_type": "code",
      "metadata": {
        "id": "VFbAkoyy5P58"
      },
      "source": [
        "#1) Прочитаем файл\n",
        "\n",
        "data2 = pd.read_csv(\"drive/My Drive/MADE/Geo-data/HW01/some_posts.txt\", sep=\",\")#, usecols = [\"from_x\", \"from_y\", \"to_x\", \"to_y\"])\n",
        "#data.columns.tolist()"
      ],
      "execution_count": 144,
      "outputs": []
    },
    {
      "cell_type": "code",
      "metadata": {
        "id": "Q1fgaRVFh4sV",
        "outputId": "26853659-a580-4e51-8bce-641ae56263a5",
        "colab": {
          "base_uri": "https://localhost:8080/",
          "height": 204
        }
      },
      "source": [
        "data2.head()"
      ],
      "execution_count": 145,
      "outputs": [
        {
          "output_type": "execute_result",
          "data": {
            "text/html": [
              "<div>\n",
              "<style scoped>\n",
              "    .dataframe tbody tr th:only-of-type {\n",
              "        vertical-align: middle;\n",
              "    }\n",
              "\n",
              "    .dataframe tbody tr th {\n",
              "        vertical-align: top;\n",
              "    }\n",
              "\n",
              "    .dataframe thead th {\n",
              "        text-align: right;\n",
              "    }\n",
              "</style>\n",
              "<table border=\"1\" class=\"dataframe\">\n",
              "  <thead>\n",
              "    <tr style=\"text-align: right;\">\n",
              "      <th></th>\n",
              "      <th>lat</th>\n",
              "      <th>lon</th>\n",
              "      <th>timestamp</th>\n",
              "      <th>userid</th>\n",
              "    </tr>\n",
              "  </thead>\n",
              "  <tbody>\n",
              "    <tr>\n",
              "      <th>0</th>\n",
              "      <td>-24.980792</td>\n",
              "      <td>31.484633</td>\n",
              "      <td>2015-07-07 03:02</td>\n",
              "      <td>66487960</td>\n",
              "    </tr>\n",
              "    <tr>\n",
              "      <th>1</th>\n",
              "      <td>-25.499225</td>\n",
              "      <td>31.508906</td>\n",
              "      <td>2015-07-07 03:18</td>\n",
              "      <td>65281761</td>\n",
              "    </tr>\n",
              "    <tr>\n",
              "      <th>2</th>\n",
              "      <td>-24.342578</td>\n",
              "      <td>30.930866</td>\n",
              "      <td>2015-03-07 03:38</td>\n",
              "      <td>90916112</td>\n",
              "    </tr>\n",
              "    <tr>\n",
              "      <th>3</th>\n",
              "      <td>-24.854614</td>\n",
              "      <td>31.519718</td>\n",
              "      <td>2015-10-07 05:04</td>\n",
              "      <td>37959089</td>\n",
              "    </tr>\n",
              "    <tr>\n",
              "      <th>4</th>\n",
              "      <td>-24.921069</td>\n",
              "      <td>31.520836</td>\n",
              "      <td>2015-10-07 05:19</td>\n",
              "      <td>27793716</td>\n",
              "    </tr>\n",
              "  </tbody>\n",
              "</table>\n",
              "</div>"
            ],
            "text/plain": [
              "         lat        lon         timestamp    userid\n",
              "0 -24.980792  31.484633  2015-07-07 03:02  66487960\n",
              "1 -25.499225  31.508906  2015-07-07 03:18  65281761\n",
              "2 -24.342578  30.930866  2015-03-07 03:38  90916112\n",
              "3 -24.854614  31.519718  2015-10-07 05:04  37959089\n",
              "4 -24.921069  31.520836  2015-10-07 05:19  27793716"
            ]
          },
          "metadata": {
            "tags": []
          },
          "execution_count": 145
        }
      ]
    },
    {
      "cell_type": "code",
      "metadata": {
        "id": "-EJPq8lxh5cF",
        "outputId": "79e3f8f2-181a-4197-c4e8-40d3cd2709f0",
        "colab": {
          "base_uri": "https://localhost:8080/",
          "height": 258
        }
      },
      "source": [
        "#Выполним задания 2, 3, 4, 5\n",
        "\n",
        "data3 = gpd.GeoDataFrame(data2, crs={'init': 'epsg:4326'},\n",
        "                               geometry=[shapely.geometry.Point(xy) for xy in zip(data2.lon, data2.lat)])\n",
        "data3.head()"
      ],
      "execution_count": 148,
      "outputs": [
        {
          "output_type": "stream",
          "text": [
            "/usr/local/lib/python3.6/dist-packages/pyproj/crs/crs.py:53: FutureWarning: '+init=<authority>:<code>' syntax is deprecated. '<authority>:<code>' is the preferred initialization method. When making the change, be mindful of axis order changes: https://pyproj4.github.io/pyproj/stable/gotchas.html#axis-order-changes-in-proj-6\n",
            "  return _prepare_from_string(\" \".join(pjargs))\n"
          ],
          "name": "stderr"
        },
        {
          "output_type": "execute_result",
          "data": {
            "text/html": [
              "<div>\n",
              "<style scoped>\n",
              "    .dataframe tbody tr th:only-of-type {\n",
              "        vertical-align: middle;\n",
              "    }\n",
              "\n",
              "    .dataframe tbody tr th {\n",
              "        vertical-align: top;\n",
              "    }\n",
              "\n",
              "    .dataframe thead th {\n",
              "        text-align: right;\n",
              "    }\n",
              "</style>\n",
              "<table border=\"1\" class=\"dataframe\">\n",
              "  <thead>\n",
              "    <tr style=\"text-align: right;\">\n",
              "      <th></th>\n",
              "      <th>lat</th>\n",
              "      <th>lon</th>\n",
              "      <th>timestamp</th>\n",
              "      <th>userid</th>\n",
              "      <th>geometry</th>\n",
              "    </tr>\n",
              "  </thead>\n",
              "  <tbody>\n",
              "    <tr>\n",
              "      <th>0</th>\n",
              "      <td>-24.980792</td>\n",
              "      <td>31.484633</td>\n",
              "      <td>2015-07-07 03:02</td>\n",
              "      <td>66487960</td>\n",
              "      <td>POINT (31.48463 -24.98079)</td>\n",
              "    </tr>\n",
              "    <tr>\n",
              "      <th>1</th>\n",
              "      <td>-25.499225</td>\n",
              "      <td>31.508906</td>\n",
              "      <td>2015-07-07 03:18</td>\n",
              "      <td>65281761</td>\n",
              "      <td>POINT (31.50891 -25.49922)</td>\n",
              "    </tr>\n",
              "    <tr>\n",
              "      <th>2</th>\n",
              "      <td>-24.342578</td>\n",
              "      <td>30.930866</td>\n",
              "      <td>2015-03-07 03:38</td>\n",
              "      <td>90916112</td>\n",
              "      <td>POINT (30.93087 -24.34258)</td>\n",
              "    </tr>\n",
              "    <tr>\n",
              "      <th>3</th>\n",
              "      <td>-24.854614</td>\n",
              "      <td>31.519718</td>\n",
              "      <td>2015-10-07 05:04</td>\n",
              "      <td>37959089</td>\n",
              "      <td>POINT (31.51972 -24.85461)</td>\n",
              "    </tr>\n",
              "    <tr>\n",
              "      <th>4</th>\n",
              "      <td>-24.921069</td>\n",
              "      <td>31.520836</td>\n",
              "      <td>2015-10-07 05:19</td>\n",
              "      <td>27793716</td>\n",
              "      <td>POINT (31.52084 -24.92107)</td>\n",
              "    </tr>\n",
              "  </tbody>\n",
              "</table>\n",
              "</div>"
            ],
            "text/plain": [
              "         lat        lon         timestamp    userid                    geometry\n",
              "0 -24.980792  31.484633  2015-07-07 03:02  66487960  POINT (31.48463 -24.98079)\n",
              "1 -25.499225  31.508906  2015-07-07 03:18  65281761  POINT (31.50891 -25.49922)\n",
              "2 -24.342578  30.930866  2015-03-07 03:38  90916112  POINT (30.93087 -24.34258)\n",
              "3 -24.854614  31.519718  2015-10-07 05:04  37959089  POINT (31.51972 -24.85461)\n",
              "4 -24.921069  31.520836  2015-10-07 05:19  27793716  POINT (31.52084 -24.92107)"
            ]
          },
          "metadata": {
            "tags": []
          },
          "execution_count": 148
        }
      ]
    },
    {
      "cell_type": "code",
      "metadata": {
        "id": "uExmyWu3rM8O",
        "outputId": "41a40559-62b8-4a66-ae25-4c00dd287760",
        "colab": {
          "base_uri": "https://localhost:8080/",
          "height": 592
        }
      },
      "source": [
        "fig, ax1 = plt.subplots(figsize = (10,10))\n",
        "\n",
        "# Plot the data using geopandas .plot() method\n",
        "data3.plot(marker='*', cmap='PiYG', ax=ax1)\n",
        "\n",
        "plt.show()"
      ],
      "execution_count": 161,
      "outputs": [
        {
          "output_type": "display_data",
          "data": {
            "image/png": "[encoded data removed]",
            "text/plain": [
              "<Figure size 720x720 with 1 Axes>"
            ]
          },
          "metadata": {
            "tags": [],
            "needs_background": "light"
          }
        }
      ]
    },
    {
      "cell_type": "code",
      "metadata": {
        "id": "XHhI3OVoh5FC"
      },
      "source": [
        "data3.to_file(\"drive/My Drive/MADE/Geo-data/HW01/Kruger_posts.shp\")\n"
      ],
      "execution_count": 150,
      "outputs": []
    },
    {
      "cell_type": "markdown",
      "metadata": {
        "id": "qxugZoO45P6V"
      },
      "source": [
        "## Задание №4. Movements of individual user. 6 баллов. (не сделал)"
      ]
    },
    {
      "cell_type": "markdown",
      "metadata": {
        "id": "MIPYGiQK5P6X"
      },
      "source": [
        "Please use data from previous task:"
      ]
    },
    {
      "cell_type": "markdown",
      "metadata": {
        "id": "EtdOJbdf5P6Z"
      },
      "source": [
        "1. Group the data by `userid`\n",
        "2. Create an empty GeoDataFrame\n",
        "3. For each user:\n",
        "   - sort the rows by `timestamp`\n",
        "   - create _LineString_ objects based on the points\n",
        "   - add the `geometry` and the `userid` into the GeoDataFrame you created in the last step\n",
        "4. Determine the CRS of your GeoDataFrame to WGS84 (epsg code: 4326)\n",
        "5. Save the movements of each user into a separate Shapefile\n",
        "   - Name the output Shapefile based on the `userid` number"
      ]
    },
    {
      "cell_type": "code",
      "metadata": {
        "id": "9mJOuEOY5P6g"
      },
      "source": [
        "# put your code here"
      ],
      "execution_count": null,
      "outputs": []
    },
    {
      "cell_type": "markdown",
      "metadata": {
        "id": "uIo3RtnZ5P63"
      },
      "source": [
        "## Задание №5. Join accessibility datasets into a grid and visualize them by using a classifier. 4 балла. (не сделал)"
      ]
    },
    {
      "cell_type": "markdown",
      "metadata": {
        "id": "7WDrzx6t5P65"
      },
      "source": [
        "A dataset from `dataE4.zip` includes 7 text files containing data about accessibility in Helsinki Region and a Shapefile that contains a Polygon grid that can be used to visualize and analyze the data spatially. The datasets are:\n",
        "\n",
        " - `travel_times_to_[XXXXXXX]_[NAME-OF-THE-CENTER].txt` including travel times and road network distances to specific shopping center\n",
        " - `MetropAccess_YKR_grid_EurefFIN.shp` including the Polygon grid with __YKR_ID__ column that can be used to join the grid with the accessibility data\n",
        " \n",
        "Find out more about the data [here](https://blogs.helsinki.fi/accessibility/helsinki-region-travel-time-matrix-2015/)"
      ]
    },
    {
      "cell_type": "markdown",
      "metadata": {
        "id": "oUoy4POo5P7A"
      },
      "source": [
        "1. Read those travel_time data files (one by one) with Pandas and select only following columns from them:\n",
        "\n",
        " - `pt_r_tt`\n",
        " - `car_r_t`\n",
        " - `from_id`\n",
        " - `to_id`\n",
        "\n",
        "\n",
        "2. Visualize the classified travel times (Public transport AND Car) of at least one of the shopping centers using any classification method (see [PySAL](https://pysal.org/) for more details upon classification methods). You need to classify the data into a new column in your GeoDataFrame."
      ]
    },
    {
      "cell_type": "code",
      "metadata": {
        "id": "1P3TD_ro5P7D"
      },
      "source": [
        "# put your code here"
      ],
      "execution_count": null,
      "outputs": []
    },
    {
      "cell_type": "markdown",
      "metadata": {
        "id": "eL7CwbJh5P7L"
      },
      "source": [
        "## Задание №6. Calculate and visualize the dominance areas of shopping centers. 6 баллов. (не сделал)"
      ]
    },
    {
      "cell_type": "markdown",
      "metadata": {
        "id": "w8wVqBqU5P7P"
      },
      "source": [
        "Please use data from previous task. The aim is to define the dominance area for each of those shopping centers based on travel time:"
      ]
    },
    {
      "cell_type": "markdown",
      "metadata": {
        "id": "K-JMFY-N5P7S"
      },
      "source": [
        "1. Iterate over the accessibility files one by one\n",
        "2. Rename the travel time columns so that they can be identified\n",
        "   - you can include e.g. the `to_id` number as part of the column name (then the column name could be e.g. \"pt_r_tt_5987221\")\n",
        "3. Join those columns into `MetropAccess_YKR_grid_EurefFIN.shp` where __YKR_ID__ in the grid corresponds to `from_id` in the travel time data file. At the end you should have a GeoDataFrame with different columns show the travel times to different shopping centers.\n",
        "4. For each row find out the __minimum__ value of __all__ `pt_r_tt_XXXXXX` columns and insert that value into a new column called `min_time_pt`. You can now also parse the `to_id` value from the column name (i.e. parse the last number-series from the column text) that had the minimum travel time value and insert that value as a number into a column called `dominant_service`. In this, way are able to determine the \"closest\" shopping center for each grid cell and visualize it either by travel times or by using the __YKR_ID__ number of the shopping center (i.e. that number series that was used in column name).\n",
        "5. Visualize the travel times of our `min_time_pt` column using any classifier.\n",
        "6. Visualize also the values in `dominant_service` column (no need to use any specific classifier). Notice that the value should be a number. If it is still as text, you need to convert it first."
      ]
    },
    {
      "cell_type": "code",
      "metadata": {
        "id": "G2ZXy3aJ5P7U"
      },
      "source": [
        "# put your code here"
      ],
      "execution_count": null,
      "outputs": []
    }
  ]
}